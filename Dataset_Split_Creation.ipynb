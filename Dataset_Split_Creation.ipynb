{
  "nbformat": 4,
  "nbformat_minor": 0,
  "metadata": {
    "colab": {
      "provenance": []
    },
    "kernelspec": {
      "name": "python3",
      "display_name": "Python 3"
    },
    "language_info": {
      "name": "python"
    }
  },
  "cells": [
    {
      "cell_type": "code",
      "source": [
        "from google.colab import drive\n",
        "drive.mount('/content/drive')"
      ],
      "metadata": {
        "id": "E341Ds5UHvw8"
      },
      "execution_count": null,
      "outputs": []
    },
    {
      "cell_type": "code",
      "source": [
        "src_dir = \"/content/drive/MyDrive/CADAR Attack Video Dataset\" # Must add shortcut to this directory in drive"
      ],
      "metadata": {
        "id": "dnBbyvM2H6qY"
      },
      "execution_count": null,
      "outputs": []
    },
    {
      "cell_type": "code",
      "execution_count": null,
      "metadata": {
        "id": "fCAurKoPHsyt"
      },
      "outputs": [],
      "source": [
        "import os, random, shutil\n",
        "\n",
        "dst_root = \"/content/drive/MyDrive/CADAR Attack Video Dataset\" # Dataset destination\n",
        "\n",
        "splits = [\"train\", \"val\", \"test\"]\n",
        "split_ratio = [0.6, 0.2, 0.2] # 60-20-20 train-val-split ratio\n",
        "video_exts = ('.mp4', '.avi', '.mov', '.mkv')\n",
        "skip_folders = set(splits)\n",
        "\n",
        "for split in splits:\n",
        "    for cls in os.listdir(src_dir):\n",
        "        class_path = os.path.join(src_dir, cls)\n",
        "        if not os.path.isdir(class_path) or cls in skip_folders:\n",
        "            continue\n",
        "        os.makedirs(os.path.join(dst_root, split, cls), exist_ok=True)\n",
        "\n",
        "for cls in os.listdir(src_dir):\n",
        "    if cls in skip_folders:\n",
        "        continue\n",
        "    class_path = os.path.join(src_dir, cls)\n",
        "    if not os.path.isdir(class_path):\n",
        "        continue\n",
        "    files = [f for f in os.listdir(class_path) if f.lower().endswith(video_exts) and os.path.isfile(os.path.join(class_path, f))]\n",
        "    print(f\"{cls}: Found {len(files)} video files\")\n",
        "    if not files:\n",
        "        continue\n",
        "    random.shuffle(files)\n",
        "    n = len(files)\n",
        "    n_train, n_val = int(n * split_ratio[0]), int(n * split_ratio[1])\n",
        "    assignments = [\n",
        "        (\"train\", files[:n_train]),\n",
        "        (\"val\", files[n_train:n_train + n_val]),\n",
        "        (\"test\", files[n_train + n_val:])\n",
        "    ]\n",
        "    for split, filelist in assignments:\n",
        "        for fname in filelist:\n",
        "            src = os.path.join(class_path, fname)\n",
        "            dst = os.path.join(dst_root, split, cls, fname)\n",
        "            if not os.path.exists(dst):\n",
        "                os.makedirs(os.path.dirname(dst), exist_ok=True)\n",
        "                shutil.copy(src, dst)\n",
        "                print(f\"Copied {src} --> {dst}\")\n",
        "\n",
        "print(\"Splitting complete.\")"
      ]
    }
  ]
}
